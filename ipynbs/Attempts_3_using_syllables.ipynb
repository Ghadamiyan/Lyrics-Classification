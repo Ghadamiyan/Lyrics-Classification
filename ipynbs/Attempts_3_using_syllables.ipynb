{
 "cells": [
  {
   "cell_type": "markdown",
   "id": "b540e091",
   "metadata": {},
   "source": [
    "I used the average number of syllables"
   ]
  },
  {
   "cell_type": "markdown",
   "id": "37b0068b",
   "metadata": {},
   "source": [
    "# IRTM Second Project\n",
    "\n",
    "Ghadamiyan Lida, class 507"
   ]
  },
  {
   "cell_type": "code",
   "execution_count": 1,
   "id": "ff5ec373",
   "metadata": {},
   "outputs": [
    {
     "name": "stderr",
     "output_type": "stream",
     "text": [
      "[nltk_data] Downloading package wordnet to\n",
      "[nltk_data]     C:\\Users\\lidag\\AppData\\Roaming\\nltk_data...\n",
      "[nltk_data]   Package wordnet is already up-to-date!\n",
      "[nltk_data] Downloading package punkt to\n",
      "[nltk_data]     C:\\Users\\lidag\\AppData\\Roaming\\nltk_data...\n",
      "[nltk_data]   Package punkt is already up-to-date!\n"
     ]
    },
    {
     "data": {
      "text/html": [
       "        <script type=\"text/javascript\">\n",
       "        window.PlotlyConfig = {MathJaxConfig: 'local'};\n",
       "        if (window.MathJax) {MathJax.Hub.Config({SVG: {font: \"STIX-Web\"}});}\n",
       "        if (typeof require !== 'undefined') {\n",
       "        require.undef(\"plotly\");\n",
       "        requirejs.config({\n",
       "            paths: {\n",
       "                'plotly': ['https://cdn.plot.ly/plotly-2.8.3.min']\n",
       "            }\n",
       "        });\n",
       "        require(['plotly'], function(Plotly) {\n",
       "            window._Plotly = Plotly;\n",
       "        });\n",
       "        }\n",
       "        </script>\n",
       "        "
      ]
     },
     "metadata": {},
     "output_type": "display_data"
    }
   ],
   "source": [
    "import pandas as pd\n",
    "import numpy as np\n",
    "import string\n",
    "import matplotlib.pyplot as plt\n",
    "\n",
    "import nltk\n",
    "from nltk.stem import WordNetLemmatizer, SnowballStemmer\n",
    "nltk.download('wordnet')\n",
    "nltk.download('punkt')\n",
    "stemmer = SnowballStemmer('english')\n",
    "\n",
    "from sklearn.feature_extraction.text import CountVectorizer, TfidfTransformer\n",
    "from sklearn.decomposition import TruncatedSVD\n",
    "from sklearn.preprocessing import MinMaxScaler\n",
    "\n",
    "from sklearn.naive_bayes import MultinomialNB\n",
    "from sklearn import svm\n",
    "from sklearn.cluster import KMeans, DBSCAN\n",
    "\n",
    "from sklearn.metrics import accuracy_score, confusion_matrix, classification_report\n",
    "from sklearn.metrics.cluster import adjusted_rand_score\n",
    "from sklearn.metrics.cluster import fowlkes_mallows_score\n",
    "\n",
    "import seaborn as sns\n",
    "import cufflinks as cf\n",
    "\n",
    "\n",
    "from sklearn.pipeline import Pipeline \n",
    "from sklearn.model_selection import cross_val_score, train_test_split, GridSearchCV, RandomizedSearchCV\n",
    "\n",
    "import pyphen\n",
    "\n",
    "cf.go_offline()\n",
    "cf.set_config_file(offline=False, world_readable=True)"
   ]
  },
  {
   "cell_type": "markdown",
   "id": "c076c9ba",
   "metadata": {},
   "source": [
    "## Data preprocessing"
   ]
  },
  {
   "cell_type": "code",
   "execution_count": 2,
   "id": "222fee63",
   "metadata": {},
   "outputs": [],
   "source": [
    "data = pd.read_csv(\"Lyrics-Genre-Train.csv\")\n",
    "data1 = pd.read_csv(\"Lyrics-Genre-Test-GroundTruth.csv\")"
   ]
  },
  {
   "cell_type": "code",
   "execution_count": 3,
   "id": "c231252b",
   "metadata": {},
   "outputs": [],
   "source": [
    "def conv_labels(data):          # Converting the labels to numbers\n",
    "\n",
    "    \n",
    "    numeric_labels=[]\n",
    "\n",
    "    for i in range(0, len(data.index)):\n",
    "\n",
    "        if data.Genre[i] == 'Metal':\n",
    "            numeric_labels.append(0)\n",
    "\n",
    "        if data.Genre[i] == 'Hip-Hop':\n",
    "            numeric_labels.append(1)\n",
    "\n",
    "        if data.Genre[i] == 'Country':\n",
    "            numeric_labels.append(2)\n",
    "\n",
    "        if data.Genre[i] == 'Jazz':\n",
    "            numeric_labels.append(3)\n",
    "\n",
    "        if data.Genre[i] == 'Electronic':\n",
    "            numeric_labels.append(4)\n",
    "\n",
    "        if data.Genre[i] == 'Pop':\n",
    "            numeric_labels.append(5)\n",
    "\n",
    "        if data.Genre[i] == 'Folk':\n",
    "            numeric_labels.append(6)\n",
    "\n",
    "        if data.Genre[i] == 'Rock':\n",
    "            numeric_labels.append(7)\n",
    "\n",
    "        if data.Genre[i] == 'R&B':\n",
    "            numeric_labels.append(8)\n",
    "\n",
    "        if data.Genre[i] == 'Indie':\n",
    "            numeric_labels.append(9)\n",
    "            \n",
    "    return numeric_labels"
   ]
  },
  {
   "cell_type": "code",
   "execution_count": 4,
   "id": "c5ca85e0",
   "metadata": {},
   "outputs": [],
   "source": [
    "numeric_labels = conv_labels(data)\n",
    "numeric_labels1 = conv_labels(data1)"
   ]
  },
  {
   "cell_type": "code",
   "execution_count": 5,
   "id": "a6f21e4d",
   "metadata": {},
   "outputs": [],
   "source": [
    "def prep(data):                             \n",
    "    \n",
    "    data2 = []\n",
    "    for i in range(0, len(data.index)):\n",
    "\n",
    "        # Punctuation removal\n",
    "        table = str.maketrans(dict.fromkeys(string.punctuation))                   \n",
    "        sentences = (data.Lyrics[i].translate(table))\n",
    "\n",
    "        # \" '\\n \" removal\n",
    "        words = sentences[:-3] \n",
    "\n",
    "        # Tokenization\n",
    "        words = nltk.word_tokenize(words)\n",
    "\n",
    "        # shrt words removal & lemmatization & stemming\n",
    "        words_ = []\n",
    "        for word in words:\n",
    "            if len(word) > 2:   \n",
    "                if not word.isnumeric():                                                  \n",
    "                    word1 = stemmer.stem(WordNetLemmatizer().lemmatize(word, pos='v'))          \n",
    "                    words_.append(word1)\n",
    "        data2.append(words_)  \n",
    "    return data2"
   ]
  },
  {
   "cell_type": "code",
   "execution_count": 6,
   "id": "91e1d3bd",
   "metadata": {},
   "outputs": [],
   "source": [
    "df = pd.DataFrame({'lyr':prep(data), 'gen':numeric_labels})   "
   ]
  },
  {
   "cell_type": "code",
   "execution_count": 7,
   "id": "59c69e25",
   "metadata": {},
   "outputs": [],
   "source": [
    "train_data__ = df['lyr']\n",
    "train_labels = df['gen']"
   ]
  },
  {
   "cell_type": "code",
   "execution_count": 8,
   "id": "c75f727c",
   "metadata": {},
   "outputs": [],
   "source": [
    "df_test = pd.DataFrame({'lyr':prep(data1), 'gen':numeric_labels1})   \n",
    "\n",
    "test_data__ = df_test['lyr']\n",
    "test_labels = df_test['gen']"
   ]
  },
  {
   "cell_type": "code",
   "execution_count": 9,
   "id": "ddeb74d0",
   "metadata": {},
   "outputs": [],
   "source": [
    "# CountVectorizer & TermFrequencies\n",
    "cvect = CountVectorizer(ngram_range=(1, 1), lowercase='true')   \n",
    "tfidf_transformer = TfidfTransformer(norm= 'l2', use_idf= True)"
   ]
  },
  {
   "cell_type": "code",
   "execution_count": 10,
   "id": "759ccc84",
   "metadata": {},
   "outputs": [],
   "source": [
    "# Transforming the processed data to a list (for tfidf)\n",
    "data4 = train_data__.astype(str).values.tolist()\n",
    "\n",
    "train_data1 = cvect.fit_transform(data4)\n",
    "train_data = tfidf_transformer.fit_transform(train_data1)"
   ]
  },
  {
   "cell_type": "code",
   "execution_count": 11,
   "id": "829d5864",
   "metadata": {},
   "outputs": [],
   "source": [
    "# Same procedure for the test data\n",
    "data5 = test_data__.astype(str).values.tolist()\n",
    "\n",
    "test_data1 = cvect.transform(data5)\n",
    "test_data = tfidf_transformer.transform(test_data1)"
   ]
  },
  {
   "cell_type": "markdown",
   "id": "680bb30f",
   "metadata": {},
   "source": [
    "## Additional features extracted from the lyrics"
   ]
  },
  {
   "cell_type": "code",
   "execution_count": 12,
   "id": "2684e497",
   "metadata": {},
   "outputs": [],
   "source": [
    "# Extracting the number of syllables and adding in df and df_test\n",
    "\n",
    "dic = pyphen.Pyphen(lang='en')"
   ]
  },
  {
   "cell_type": "code",
   "execution_count": 46,
   "id": "edcf8f15",
   "metadata": {},
   "outputs": [
    {
     "data": {
      "text/plain": [
       "'hel-lo -wolrd, today is such a -beau-ti-ful day'"
      ]
     },
     "execution_count": 46,
     "metadata": {},
     "output_type": "execute_result"
    }
   ],
   "source": [
    "dic.inserted('hello wolrd, today is such a beautiful day')"
   ]
  },
  {
   "cell_type": "code",
   "execution_count": 15,
   "id": "6c0dbde1",
   "metadata": {},
   "outputs": [],
   "source": [
    "def get_syllables(df):\n",
    "    \n",
    "    syl = []\n",
    "    for i in range(0, len(df.index)):\n",
    "        \n",
    "        # Punctuation removal\n",
    "        table = str.maketrans(dict.fromkeys(string.punctuation))                   \n",
    "        sentences = (df.Lyrics[i].translate(table))\n",
    "\n",
    "        # \" '\\n \" removal\n",
    "        words = sentences[:-3] \n",
    "\n",
    "        # Tokenization\n",
    "        words = nltk.word_tokenize(words)\n",
    "        \n",
    "        s =''\n",
    "        for word in words:\n",
    "            s += ' '+str(dic.inserted(word))\n",
    "            s = s.replace('-', ' ')\n",
    "    \n",
    "        syl.append(len(s)/len(df.Lyrics[i]))\n",
    "        \n",
    "    return syl"
   ]
  },
  {
   "cell_type": "code",
   "execution_count": 17,
   "id": "2a2f4b79",
   "metadata": {},
   "outputs": [],
   "source": [
    "syl = get_syllables(data)"
   ]
  },
  {
   "cell_type": "code",
   "execution_count": 39,
   "id": "02a33015",
   "metadata": {},
   "outputs": [],
   "source": [
    "df_train = pd.DataFrame({'avg_syl': syl}) "
   ]
  },
  {
   "cell_type": "code",
   "execution_count": 35,
   "id": "3174066b",
   "metadata": {},
   "outputs": [],
   "source": [
    "df_test_ = pd.DataFrame({'avg_syl': get_syllables(data1)}) "
   ]
  },
  {
   "cell_type": "markdown",
   "id": "9e4f7bd2",
   "metadata": {},
   "source": [
    "## SVM 0.193"
   ]
  },
  {
   "cell_type": "code",
   "execution_count": 41,
   "id": "2d9e35c0",
   "metadata": {},
   "outputs": [
    {
     "data": {
      "text/plain": [
       "SVC()"
      ]
     },
     "execution_count": 41,
     "metadata": {},
     "output_type": "execute_result"
    }
   ],
   "source": [
    "from sklearn import svm\n",
    "\n",
    "model = svm.SVC()\n",
    "model.fit(df_train, train_labels)"
   ]
  },
  {
   "cell_type": "code",
   "execution_count": 43,
   "id": "91d6bd83",
   "metadata": {},
   "outputs": [],
   "source": [
    "prediction = model.predict(df_test_)"
   ]
  },
  {
   "cell_type": "code",
   "execution_count": 44,
   "id": "eb40e033",
   "metadata": {},
   "outputs": [
    {
     "data": {
      "text/plain": [
       "0.19382482671707624"
      ]
     },
     "execution_count": 44,
     "metadata": {},
     "output_type": "execute_result"
    }
   ],
   "source": [
    "accuracy_score(prediction, test_labels)"
   ]
  },
  {
   "cell_type": "markdown",
   "id": "3d560557",
   "metadata": {},
   "source": [
    "## Random Forest 0.194"
   ]
  },
  {
   "cell_type": "code",
   "execution_count": 42,
   "id": "cd4775e8",
   "metadata": {},
   "outputs": [
    {
     "data": {
      "text/plain": [
       "RandomForestClassifier(max_depth=2, random_state=0)"
      ]
     },
     "execution_count": 42,
     "metadata": {},
     "output_type": "execute_result"
    }
   ],
   "source": [
    "from sklearn.ensemble import RandomForestClassifier\n",
    "from sklearn.datasets import make_classification\n",
    "\n",
    "clf = RandomForestClassifier(max_depth=2, random_state=0)\n",
    "clf.fit(df_train, train_labels)"
   ]
  },
  {
   "cell_type": "code",
   "execution_count": 45,
   "id": "43de0239",
   "metadata": {},
   "outputs": [
    {
     "data": {
      "text/plain": [
       "0.19458097038437303"
      ]
     },
     "execution_count": 45,
     "metadata": {},
     "output_type": "execute_result"
    }
   ],
   "source": [
    "p = clf.predict(df_test_)\n",
    "accuracy_score(p, test_labels)"
   ]
  },
  {
   "cell_type": "code",
   "execution_count": null,
   "id": "687d94e7",
   "metadata": {},
   "outputs": [],
   "source": []
  }
 ],
 "metadata": {
  "kernelspec": {
   "display_name": "Python 3",
   "language": "python",
   "name": "python3"
  },
  "language_info": {
   "codemirror_mode": {
    "name": "ipython",
    "version": 3
   },
   "file_extension": ".py",
   "mimetype": "text/x-python",
   "name": "python",
   "nbconvert_exporter": "python",
   "pygments_lexer": "ipython3",
   "version": "3.8.8"
  }
 },
 "nbformat": 4,
 "nbformat_minor": 5
}
