{
 "cells": [
  {
   "cell_type": "markdown",
   "id": "37b0068b",
   "metadata": {},
   "source": [
    "# IRTM Second Project\n",
    "\n",
    "Ghadamiyan Lida, class 507"
   ]
  },
  {
   "cell_type": "code",
   "execution_count": 1,
   "id": "ff5ec373",
   "metadata": {},
   "outputs": [
    {
     "name": "stderr",
     "output_type": "stream",
     "text": [
      "[nltk_data] Downloading package wordnet to\n",
      "[nltk_data]     C:\\Users\\lidag\\AppData\\Roaming\\nltk_data...\n",
      "[nltk_data]   Package wordnet is already up-to-date!\n",
      "[nltk_data] Downloading package punkt to\n",
      "[nltk_data]     C:\\Users\\lidag\\AppData\\Roaming\\nltk_data...\n",
      "[nltk_data]   Package punkt is already up-to-date!\n"
     ]
    },
    {
     "data": {
      "text/html": [
       "        <script type=\"text/javascript\">\n",
       "        window.PlotlyConfig = {MathJaxConfig: 'local'};\n",
       "        if (window.MathJax) {MathJax.Hub.Config({SVG: {font: \"STIX-Web\"}});}\n",
       "        if (typeof require !== 'undefined') {\n",
       "        require.undef(\"plotly\");\n",
       "        requirejs.config({\n",
       "            paths: {\n",
       "                'plotly': ['https://cdn.plot.ly/plotly-2.8.3.min']\n",
       "            }\n",
       "        });\n",
       "        require(['plotly'], function(Plotly) {\n",
       "            window._Plotly = Plotly;\n",
       "        });\n",
       "        }\n",
       "        </script>\n",
       "        "
      ]
     },
     "metadata": {},
     "output_type": "display_data"
    }
   ],
   "source": [
    "import pandas as pd\n",
    "import numpy as np\n",
    "import string\n",
    "import matplotlib.pyplot as plt\n",
    "\n",
    "import nltk\n",
    "from nltk.stem import WordNetLemmatizer, SnowballStemmer\n",
    "nltk.download('wordnet')\n",
    "nltk.download('punkt')\n",
    "stemmer = SnowballStemmer('english')\n",
    "\n",
    "from sklearn.feature_extraction.text import CountVectorizer, TfidfTransformer\n",
    "from sklearn.decomposition import TruncatedSVD\n",
    "from sklearn.preprocessing import MinMaxScaler\n",
    "\n",
    "from sklearn.naive_bayes import MultinomialNB\n",
    "from sklearn import svm\n",
    "from sklearn.cluster import KMeans, DBSCAN\n",
    "\n",
    "from sklearn.metrics import accuracy_score, confusion_matrix, classification_report\n",
    "from sklearn.metrics.cluster import adjusted_rand_score\n",
    "from sklearn.metrics.cluster import fowlkes_mallows_score\n",
    "\n",
    "import seaborn as sns\n",
    "import cufflinks as cf\n",
    "\n",
    "\n",
    "from sklearn.pipeline import Pipeline \n",
    "from sklearn.model_selection import cross_val_score, train_test_split, GridSearchCV, RandomizedSearchCV\n",
    "\n",
    "cf.go_offline()\n",
    "cf.set_config_file(offline=False, world_readable=True)"
   ]
  },
  {
   "cell_type": "markdown",
   "id": "c076c9ba",
   "metadata": {},
   "source": [
    "## Data preprocessing"
   ]
  },
  {
   "cell_type": "code",
   "execution_count": 2,
   "id": "222fee63",
   "metadata": {},
   "outputs": [],
   "source": [
    "data = pd.read_csv(\"Lyrics-Genre-Train.csv\")\n",
    "data1 = pd.read_csv(\"Lyrics-Genre-Test-GroundTruth.csv\")"
   ]
  },
  {
   "cell_type": "code",
   "execution_count": 3,
   "id": "c231252b",
   "metadata": {},
   "outputs": [],
   "source": [
    "def conv_labels(data):          # Converting the labels to numbers\n",
    "\n",
    "    \n",
    "    numeric_labels=[]\n",
    "\n",
    "    for i in range(0, len(data.index)):\n",
    "\n",
    "        if data.Genre[i] == 'Metal':\n",
    "            numeric_labels.append(0)\n",
    "\n",
    "        if data.Genre[i] == 'Hip-Hop':\n",
    "            numeric_labels.append(1)\n",
    "\n",
    "        if data.Genre[i] == 'Country':\n",
    "            numeric_labels.append(2)\n",
    "\n",
    "        if data.Genre[i] == 'Jazz':\n",
    "            numeric_labels.append(3)\n",
    "\n",
    "        if data.Genre[i] == 'Electronic':\n",
    "            numeric_labels.append(4)\n",
    "\n",
    "        if data.Genre[i] == 'Pop':\n",
    "            numeric_labels.append(5)\n",
    "\n",
    "        if data.Genre[i] == 'Folk':\n",
    "            numeric_labels.append(6)\n",
    "\n",
    "        if data.Genre[i] == 'Rock':\n",
    "            numeric_labels.append(7)\n",
    "\n",
    "        if data.Genre[i] == 'R&B':\n",
    "            numeric_labels.append(8)\n",
    "\n",
    "        if data.Genre[i] == 'Indie':\n",
    "            numeric_labels.append(9)\n",
    "            \n",
    "    return numeric_labels"
   ]
  },
  {
   "cell_type": "code",
   "execution_count": 4,
   "id": "c5ca85e0",
   "metadata": {},
   "outputs": [],
   "source": [
    "numeric_labels = conv_labels(data)\n",
    "numeric_labels1 = conv_labels(data1)"
   ]
  },
  {
   "cell_type": "code",
   "execution_count": 5,
   "id": "a6f21e4d",
   "metadata": {},
   "outputs": [],
   "source": [
    "def prep(data):                             \n",
    "    \n",
    "    data2 = []\n",
    "    for i in range(0, len(data.index)):\n",
    "\n",
    "        # Punctuation removal\n",
    "        table = str.maketrans(dict.fromkeys(string.punctuation))                   \n",
    "        sentences = (data.Lyrics[i].translate(table))\n",
    "\n",
    "        # \" '\\n \" removal\n",
    "        words = sentences[:-3] \n",
    "\n",
    "        # Tokenization\n",
    "        words = nltk.word_tokenize(words)\n",
    "\n",
    "        # shrt words removal & lemmatization & stemming\n",
    "        words_ = []\n",
    "        for word in words:\n",
    "            if len(word) > 2:   \n",
    "                if not word.isnumeric():                                                  \n",
    "                    word1 = stemmer.stem(WordNetLemmatizer().lemmatize(word, pos='v'))          \n",
    "                    words_.append(word1)\n",
    "        data2.append(words_)  \n",
    "    return data2"
   ]
  },
  {
   "cell_type": "code",
   "execution_count": 6,
   "id": "91e1d3bd",
   "metadata": {},
   "outputs": [],
   "source": [
    "df = pd.DataFrame({'lyr':prep(data), 'gen':numeric_labels})   "
   ]
  },
  {
   "cell_type": "code",
   "execution_count": 7,
   "id": "59c69e25",
   "metadata": {},
   "outputs": [],
   "source": [
    "train_data__ = df['lyr']\n",
    "train_labels = df['gen']"
   ]
  },
  {
   "cell_type": "code",
   "execution_count": 8,
   "id": "c75f727c",
   "metadata": {},
   "outputs": [],
   "source": [
    "df1 = pd.DataFrame({'lyr':prep(data1), 'gen':numeric_labels1})   \n",
    "\n",
    "test_data__ = df1['lyr']\n",
    "test_labels = df1['gen']"
   ]
  },
  {
   "cell_type": "code",
   "execution_count": 9,
   "id": "ddeb74d0",
   "metadata": {},
   "outputs": [],
   "source": [
    "# CountVectorizer & TermFrequencies\n",
    "cvect = CountVectorizer(ngram_range=(1, 1), lowercase='true')   \n",
    "tfidf_transformer = TfidfTransformer(norm= 'l2', use_idf= True)"
   ]
  },
  {
   "cell_type": "code",
   "execution_count": 10,
   "id": "759ccc84",
   "metadata": {},
   "outputs": [],
   "source": [
    "# Transforming the processed data to a list (for tfidf)\n",
    "data4 = train_data__.astype(str).values.tolist()\n",
    "\n",
    "train_data1 = cvect.fit_transform(data4)\n",
    "train_data = tfidf_transformer.fit_transform(train_data1)"
   ]
  },
  {
   "cell_type": "code",
   "execution_count": 11,
   "id": "829d5864",
   "metadata": {},
   "outputs": [],
   "source": [
    "# Same procedure for the test data\n",
    "data5 = test_data__.astype(str).values.tolist()\n",
    "\n",
    "test_data1 = cvect.transform(data5)\n",
    "test_data = tfidf_transformer.transform(test_data1)"
   ]
  },
  {
   "cell_type": "code",
   "execution_count": 12,
   "id": "ac01cf3e",
   "metadata": {},
   "outputs": [],
   "source": [
    "# Same procedure for the entire data set\n",
    "train_data6 = df['lyr'].astype(str).values.tolist()\n",
    "\n",
    "data1_ = cvect.fit_transform(train_data6)\n",
    "data_ = tfidf_transformer.fit_transform(data1_)"
   ]
  },
  {
   "cell_type": "markdown",
   "id": "a7884a56",
   "metadata": {},
   "source": [
    "## Bernoulli NB - best one so far 0.42"
   ]
  },
  {
   "cell_type": "code",
   "execution_count": 13,
   "id": "07175901",
   "metadata": {},
   "outputs": [
    {
     "data": {
      "text/plain": [
       "BernoulliNB(alpha=0.01)"
      ]
     },
     "execution_count": 13,
     "metadata": {},
     "output_type": "execute_result"
    }
   ],
   "source": [
    "from sklearn.naive_bayes import BernoulliNB\n",
    "\n",
    "model = BernoulliNB(alpha=0.01)\n",
    "model.fit(train_data, train_labels)"
   ]
  },
  {
   "cell_type": "code",
   "execution_count": 14,
   "id": "ad801def",
   "metadata": {},
   "outputs": [
    {
     "name": "stdout",
     "output_type": "stream",
     "text": [
      "              precision    recall  f1-score   support\n",
      "\n",
      "           0       0.62      0.62      0.62       810\n",
      "           1       0.75      0.80      0.77       960\n",
      "           2       0.51      0.49      0.50       810\n",
      "           3       0.28      0.48      0.35       660\n",
      "           4       0.28      0.23      0.25       660\n",
      "           5       0.37      0.30      0.33      1110\n",
      "           6       0.51      0.29      0.37       495\n",
      "           7       0.34      0.36      0.35      1410\n",
      "           8       0.24      0.25      0.24       510\n",
      "           9       0.21      0.17      0.19       510\n",
      "\n",
      "    accuracy                           0.42      7935\n",
      "   macro avg       0.41      0.40      0.40      7935\n",
      "weighted avg       0.43      0.42      0.42      7935\n",
      "\n"
     ]
    }
   ],
   "source": [
    "prediction = model.predict(test_data)\n",
    "print(classification_report(test_labels, prediction))"
   ]
  },
  {
   "cell_type": "markdown",
   "id": "c76c6192",
   "metadata": {},
   "source": [
    "## SVM 0.41"
   ]
  },
  {
   "cell_type": "code",
   "execution_count": 15,
   "id": "a663ad6f",
   "metadata": {},
   "outputs": [
    {
     "data": {
      "text/plain": [
       "SVC()"
      ]
     },
     "execution_count": 15,
     "metadata": {},
     "output_type": "execute_result"
    }
   ],
   "source": [
    "# Model fitting\n",
    "model = svm.SVC()\n",
    "model.fit(train_data, train_labels)"
   ]
  },
  {
   "cell_type": "code",
   "execution_count": 16,
   "id": "fca8b109",
   "metadata": {},
   "outputs": [],
   "source": [
    "# Prediction\n",
    "prediction = model.predict(test_data)"
   ]
  },
  {
   "cell_type": "code",
   "execution_count": 17,
   "id": "f3bf59c9",
   "metadata": {},
   "outputs": [
    {
     "name": "stdout",
     "output_type": "stream",
     "text": [
      "              precision    recall  f1-score   support\n",
      "\n",
      "           0       0.65      0.61      0.63       810\n",
      "           1       0.82      0.74      0.78       960\n",
      "           2       0.47      0.43      0.45       810\n",
      "           3       0.47      0.28      0.36       660\n",
      "           4       0.34      0.05      0.09       660\n",
      "           5       0.31      0.40      0.35      1110\n",
      "           6       0.52      0.17      0.25       495\n",
      "           7       0.28      0.66      0.39      1410\n",
      "           8       0.52      0.09      0.16       510\n",
      "           9       0.80      0.02      0.03       510\n",
      "\n",
      "    accuracy                           0.41      7935\n",
      "   macro avg       0.52      0.35      0.35      7935\n",
      "weighted avg       0.49      0.41      0.39      7935\n",
      "\n"
     ]
    }
   ],
   "source": [
    "print(classification_report(test_labels, prediction))"
   ]
  },
  {
   "cell_type": "code",
   "execution_count": null,
   "id": "6f18e7ec",
   "metadata": {},
   "outputs": [],
   "source": [
    "for c in [0, 1e-2, 1e-2, 1, 10, 100]:\n",
    "    \n",
    "    model = svm.SVC()\n",
    "    model.fit(train_data, train_labels)\n",
    "    prediction = model.predict(test_data)\n",
    "    print(str(c)+\": \"+str(accuracy_score(test_labels, prediction)))"
   ]
  },
  {
   "cell_type": "markdown",
   "id": "ed6c176d",
   "metadata": {},
   "source": [
    "## MLP 0.33"
   ]
  },
  {
   "cell_type": "code",
   "execution_count": 18,
   "id": "d300c7ae",
   "metadata": {},
   "outputs": [
    {
     "name": "stdout",
     "output_type": "stream",
     "text": [
      "Iteration 1, loss = 2.15020852\n",
      "Iteration 2, loss = 1.71504962\n",
      "Iteration 3, loss = 1.42725599\n",
      "Iteration 4, loss = 1.13232904\n",
      "Iteration 5, loss = 0.85485726\n",
      "Iteration 6, loss = 0.64139288\n",
      "Iteration 7, loss = 0.48763714\n",
      "Iteration 8, loss = 0.37540928\n",
      "Iteration 9, loss = 0.29189771\n",
      "Iteration 10, loss = 0.22329319\n",
      "Iteration 11, loss = 0.17196054\n",
      "Iteration 12, loss = 0.13415506\n",
      "Iteration 13, loss = 0.10338984\n",
      "Iteration 14, loss = 0.08023991\n",
      "Iteration 15, loss = 0.06170056\n",
      "Iteration 16, loss = 0.04770239\n",
      "Iteration 17, loss = 0.03894888\n",
      "Iteration 18, loss = 0.03190975\n",
      "Iteration 19, loss = 0.02797006\n",
      "Iteration 20, loss = 0.02325559\n",
      "Iteration 21, loss = 0.02153180\n",
      "Iteration 22, loss = 0.01863835\n",
      "Iteration 23, loss = 0.01692210\n",
      "Iteration 24, loss = 0.01698826\n",
      "Iteration 25, loss = 0.01408219\n",
      "Iteration 26, loss = 0.01423866\n",
      "Iteration 27, loss = 0.01403663\n",
      "Iteration 28, loss = 0.01278360\n",
      "Iteration 29, loss = 0.01289570\n",
      "Iteration 30, loss = 0.01000575\n",
      "Iteration 31, loss = 0.01290595\n",
      "Iteration 32, loss = 0.00988524\n",
      "Iteration 33, loss = 0.01140779\n",
      "Iteration 34, loss = 0.01097274\n",
      "Iteration 35, loss = 0.00986596\n",
      "Iteration 36, loss = 0.01046779\n",
      "Iteration 37, loss = 0.01181855\n",
      "Iteration 38, loss = 0.00915101\n",
      "Iteration 39, loss = 0.00960337\n",
      "Iteration 40, loss = 0.00811800\n",
      "Iteration 41, loss = 0.00941244\n",
      "Iteration 42, loss = 0.00770766\n",
      "Iteration 43, loss = 0.00746762\n",
      "Iteration 44, loss = 0.00825652\n",
      "Iteration 45, loss = 0.00825998\n",
      "Iteration 46, loss = 0.00833372\n",
      "Iteration 47, loss = 0.00883375\n",
      "Iteration 48, loss = 0.00729320\n",
      "Iteration 49, loss = 0.00846552\n",
      "Iteration 50, loss = 0.00780058\n",
      "Iteration 51, loss = 0.00616542\n",
      "Iteration 52, loss = 0.00542191\n",
      "Iteration 53, loss = 0.00576020\n",
      "Iteration 54, loss = 0.00670896\n",
      "Iteration 55, loss = 0.00649360\n"
     ]
    },
    {
     "name": "stderr",
     "output_type": "stream",
     "text": [
      "E:\\Anaconda\\lib\\site-packages\\sklearn\\neural_network\\_multilayer_perceptron.py:614: ConvergenceWarning:\n",
      "\n",
      "Stochastic Optimizer: Maximum iterations (55) reached and the optimization hasn't converged yet.\n",
      "\n"
     ]
    },
    {
     "data": {
      "text/plain": [
       "0.332703213610586"
      ]
     },
     "execution_count": 18,
     "metadata": {},
     "output_type": "execute_result"
    }
   ],
   "source": [
    "from sklearn.neural_network import MLPClassifier\n",
    "\n",
    "model = MLPClassifier(solver='adam', activation='relu',alpha=1e-5, hidden_layer_sizes=(50,50,50), random_state=1, max_iter=55, verbose=10, learning_rate_init=0.001)\n",
    "model.fit(train_data, train_labels)\n",
    "\n",
    "prediction = model.predict(test_data)\n",
    "accuracy_score(test_labels, prediction) #0.33"
   ]
  },
  {
   "cell_type": "markdown",
   "id": "1d5544d6",
   "metadata": {},
   "source": [
    "## KNN 0.28"
   ]
  },
  {
   "cell_type": "code",
   "execution_count": 19,
   "id": "49a825fb",
   "metadata": {},
   "outputs": [
    {
     "data": {
      "text/plain": [
       "KNeighborsClassifier(n_neighbors=10)"
      ]
     },
     "execution_count": 19,
     "metadata": {},
     "output_type": "execute_result"
    }
   ],
   "source": [
    "from sklearn.neighbors import KNeighborsClassifier\n",
    "\n",
    "model = KNeighborsClassifier(n_neighbors=10)\n",
    "model.fit(train_data, train_labels)"
   ]
  },
  {
   "cell_type": "code",
   "execution_count": 20,
   "id": "119655c0",
   "metadata": {},
   "outputs": [],
   "source": [
    "# Prediction\n",
    "prediction = model.predict(test_data)"
   ]
  },
  {
   "cell_type": "code",
   "execution_count": 21,
   "id": "c318adbe",
   "metadata": {},
   "outputs": [
    {
     "name": "stdout",
     "output_type": "stream",
     "text": [
      "              precision    recall  f1-score   support\n",
      "\n",
      "           0       0.54      0.38      0.44       810\n",
      "           1       0.46      0.71      0.56       960\n",
      "           2       0.23      0.30      0.26       810\n",
      "           3       0.21      0.19      0.20       660\n",
      "           4       0.12      0.08      0.09       660\n",
      "           5       0.19      0.33      0.24      1110\n",
      "           6       0.29      0.10      0.15       495\n",
      "           7       0.26      0.24      0.25      1410\n",
      "           8       0.20      0.13      0.15       510\n",
      "           9       0.20      0.05      0.07       510\n",
      "\n",
      "    accuracy                           0.28      7935\n",
      "   macro avg       0.27      0.25      0.24      7935\n",
      "weighted avg       0.28      0.28      0.27      7935\n",
      "\n"
     ]
    }
   ],
   "source": [
    "print(classification_report(test_labels, prediction))"
   ]
  },
  {
   "cell_type": "code",
   "execution_count": null,
   "id": "20c586ff",
   "metadata": {},
   "outputs": [],
   "source": []
  },
  {
   "cell_type": "code",
   "execution_count": null,
   "id": "49a21004",
   "metadata": {},
   "outputs": [],
   "source": []
  }
 ],
 "metadata": {
  "kernelspec": {
   "display_name": "Python 3",
   "language": "python",
   "name": "python3"
  },
  "language_info": {
   "codemirror_mode": {
    "name": "ipython",
    "version": 3
   },
   "file_extension": ".py",
   "mimetype": "text/x-python",
   "name": "python",
   "nbconvert_exporter": "python",
   "pygments_lexer": "ipython3",
   "version": "3.8.8"
  }
 },
 "nbformat": 4,
 "nbformat_minor": 5
}
