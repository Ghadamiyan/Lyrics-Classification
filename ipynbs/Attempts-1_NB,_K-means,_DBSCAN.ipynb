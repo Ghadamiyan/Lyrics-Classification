{
 "cells": [
  {
   "cell_type": "code",
   "execution_count": 1,
   "id": "ff5ec373",
   "metadata": {},
   "outputs": [
    {
     "name": "stderr",
     "output_type": "stream",
     "text": [
      "[nltk_data] Downloading package wordnet to\n",
      "[nltk_data]     C:\\Users\\lidag\\AppData\\Roaming\\nltk_data...\n",
      "[nltk_data]   Package wordnet is already up-to-date!\n",
      "[nltk_data] Downloading package punkt to\n",
      "[nltk_data]     C:\\Users\\lidag\\AppData\\Roaming\\nltk_data...\n",
      "[nltk_data]   Package punkt is already up-to-date!\n"
     ]
    }
   ],
   "source": [
    "import pandas as pd\n",
    "import numpy as np\n",
    "import string\n",
    "import matplotlib.pyplot as plt\n",
    "\n",
    "import nltk\n",
    "from nltk.stem import WordNetLemmatizer, SnowballStemmer\n",
    "nltk.download('wordnet')\n",
    "nltk.download('punkt')\n",
    "stemmer = SnowballStemmer('english')\n",
    "\n",
    "from sklearn.feature_extraction.text import CountVectorizer, TfidfTransformer\n",
    "from sklearn.decomposition import TruncatedSVD\n",
    "from sklearn.preprocessing import MinMaxScaler\n",
    "\n",
    "from sklearn.naive_bayes import MultinomialNB\n",
    "from sklearn.cluster import KMeans, DBSCAN\n",
    "\n",
    "from sklearn.metrics import accuracy_score, confusion_matrix, classification_report\n",
    "from sklearn.metrics.cluster import adjusted_rand_score\n",
    "from sklearn.metrics.cluster import fowlkes_mallows_score\n",
    "\n",
    "import seaborn as sns\n",
    "\n",
    "\n",
    "from sklearn.pipeline import Pipeline \n",
    "from sklearn.model_selection import cross_val_score, train_test_split, GridSearchCV, RandomizedSearchCV"
   ]
  },
  {
   "cell_type": "code",
   "execution_count": 2,
   "id": "222fee63",
   "metadata": {},
   "outputs": [],
   "source": [
    "data = pd.read_csv(\"Lyrics-Genre-Train.csv\")"
   ]
  },
  {
   "cell_type": "code",
   "execution_count": 3,
   "id": "a6f21e4d",
   "metadata": {},
   "outputs": [],
   "source": [
    "data2 = []\n",
    "for i in range(0, len(data.index)):\n",
    "\n",
    "    # Punctuation removal\n",
    "    table = str.maketrans(dict.fromkeys(string.punctuation))                   \n",
    "    sentences = (data.Lyrics[i].translate(table))\n",
    "\n",
    "    # \" '\\n \" removal\n",
    "    words = sentences[:-3] \n",
    "\n",
    "    # Tokenization\n",
    "    words = nltk.word_tokenize(words)\n",
    "\n",
    "    # shrt words removal & lemmatization & stemming\n",
    "    words_ = []\n",
    "    for word in words:\n",
    "        if len(word) > 2:   \n",
    "            if not word.isnumeric():                                                  \n",
    "                word1 = stemmer.stem(WordNetLemmatizer().lemmatize(word, pos='v'))          \n",
    "                words_.append(word1)\n",
    "    data2.append(words_)  "
   ]
  },
  {
   "cell_type": "code",
   "execution_count": 4,
   "id": "91e1d3bd",
   "metadata": {},
   "outputs": [],
   "source": [
    "df = pd.DataFrame({'lyr':data2, 'gen':data['Genre']})   "
   ]
  },
  {
   "cell_type": "code",
   "execution_count": 5,
   "id": "22d2ff70",
   "metadata": {},
   "outputs": [],
   "source": [
    "train_data__ = df['lyr']\n",
    "train_labels = df['gen']"
   ]
  },
  {
   "cell_type": "code",
   "execution_count": 6,
   "id": "980c4bde",
   "metadata": {},
   "outputs": [],
   "source": [
    "data1 = pd.read_csv(\"Lyrics-Genre-Test-GroundTruth.csv\")"
   ]
  },
  {
   "cell_type": "code",
   "execution_count": 7,
   "id": "ab7baead",
   "metadata": {},
   "outputs": [],
   "source": [
    "data21 = []\n",
    "for i in range(0, len(data1.index)):\n",
    "\n",
    "    # Punctuation removal\n",
    "    table = str.maketrans(dict.fromkeys(string.punctuation))                   \n",
    "    sentences1 = (data1.Lyrics[i].translate(table))\n",
    "\n",
    "    # \" '\\n \" removal\n",
    "    words1 = sentences1[:-3] \n",
    "\n",
    "    # Tokenization\n",
    "    words1 = nltk.word_tokenize(words1)\n",
    "\n",
    "    # shrt words removal & lemmatization & stemming\n",
    "    words_1 = []\n",
    "    for word in words1:\n",
    "        if len(word) > 2:   \n",
    "            if not word.isnumeric():                                                  \n",
    "                word1 = stemmer.stem(WordNetLemmatizer().lemmatize(word, pos='v'))          \n",
    "                words_1.append(word1)\n",
    "    data21.append(words_1)  "
   ]
  },
  {
   "cell_type": "code",
   "execution_count": 8,
   "id": "906f30b6",
   "metadata": {},
   "outputs": [],
   "source": [
    "df1 = pd.DataFrame({'lyr':data21, 'gen':data1['Genre']})   \n",
    "\n",
    "test_data__ = df1['lyr']\n",
    "test_labels = df1['gen']"
   ]
  },
  {
   "cell_type": "code",
   "execution_count": 9,
   "id": "ddeb74d0",
   "metadata": {},
   "outputs": [],
   "source": [
    "# CountVectorizer & TermFrequencies\n",
    "cvect = CountVectorizer(ngram_range=(1, 1), lowercase='true')   \n",
    "tfidf_transformer = TfidfTransformer(norm= 'l2', use_idf= True)"
   ]
  },
  {
   "cell_type": "code",
   "execution_count": 10,
   "id": "759ccc84",
   "metadata": {},
   "outputs": [],
   "source": [
    "# Transforming the processed data to a list (for tfidf)\n",
    "data4 = train_data__.astype(str).values.tolist()\n",
    "\n",
    "train_data1 = cvect.fit_transform(data4)\n",
    "train_data = tfidf_transformer.fit_transform(train_data1)"
   ]
  },
  {
   "cell_type": "code",
   "execution_count": 11,
   "id": "829d5864",
   "metadata": {},
   "outputs": [],
   "source": [
    "# Same procedure for the test data\n",
    "data5 = test_data__.astype(str).values.tolist()\n",
    "\n",
    "test_data1 = cvect.transform(data5)\n",
    "test_data = tfidf_transformer.transform(test_data1)"
   ]
  },
  {
   "cell_type": "code",
   "execution_count": 12,
   "id": "ac01cf3e",
   "metadata": {},
   "outputs": [],
   "source": [
    "# Same procedure for the entire data set\n",
    "train_data6 = df['lyr'].astype(str).values.tolist()\n",
    "\n",
    "data1_ = cvect.fit_transform(train_data6)\n",
    "data_ = tfidf_transformer.fit_transform(data1_)"
   ]
  },
  {
   "cell_type": "markdown",
   "id": "c76c6192",
   "metadata": {},
   "source": [
    "## Naive Bayes 0.41(on test) and 0.74(on train) "
   ]
  },
  {
   "cell_type": "code",
   "execution_count": 13,
   "id": "a663ad6f",
   "metadata": {},
   "outputs": [
    {
     "data": {
      "text/plain": [
       "MultinomialNB(alpha=0.01)"
      ]
     },
     "execution_count": 13,
     "metadata": {},
     "output_type": "execute_result"
    }
   ],
   "source": [
    "# Model fitting\n",
    "model = MultinomialNB(alpha = 0.01)\n",
    "model.fit(train_data, train_labels)"
   ]
  },
  {
   "cell_type": "code",
   "execution_count": 14,
   "id": "fca8b109",
   "metadata": {},
   "outputs": [],
   "source": [
    "# Prediction\n",
    "prediction = model.predict(test_data)"
   ]
  },
  {
   "cell_type": "code",
   "execution_count": 15,
   "id": "2f314de5",
   "metadata": {},
   "outputs": [
    {
     "data": {
      "text/plain": [
       "0.41033396345305606"
      ]
     },
     "execution_count": 15,
     "metadata": {},
     "output_type": "execute_result"
    }
   ],
   "source": [
    "accuracy_score(test_labels, prediction) "
   ]
  },
  {
   "cell_type": "code",
   "execution_count": 16,
   "id": "f3bf59c9",
   "metadata": {},
   "outputs": [
    {
     "name": "stdout",
     "output_type": "stream",
     "text": [
      "              precision    recall  f1-score   support\n",
      "\n",
      "     Country       0.48      0.42      0.45       810\n",
      "  Electronic       0.30      0.05      0.09       660\n",
      "        Folk       0.54      0.23      0.33       495\n",
      "     Hip-Hop       0.65      0.81      0.72       960\n",
      "       Indie       0.32      0.05      0.08       510\n",
      "        Jazz       0.51      0.27      0.35       660\n",
      "       Metal       0.62      0.61      0.62       810\n",
      "         Pop       0.29      0.39      0.34      1110\n",
      "         R&B       0.49      0.08      0.14       510\n",
      "        Rock       0.28      0.58      0.38      1410\n",
      "\n",
      "    accuracy                           0.41      7935\n",
      "   macro avg       0.45      0.35      0.35      7935\n",
      "weighted avg       0.44      0.41      0.38      7935\n",
      "\n"
     ]
    }
   ],
   "source": [
    "print(classification_report(test_labels, prediction))"
   ]
  },
  {
   "cell_type": "code",
   "execution_count": null,
   "id": "198f4de9",
   "metadata": {},
   "outputs": [],
   "source": [
    "models = Pipeline([('CountVect', CountVectorizer()), \n",
    "                     ('TermFreq', TfidfTransformer()), \n",
    "                     ('NB', MultinomialNB())]) \n",
    "\n",
    "parameters = { 'CountVect__ngram_range': [(1, 1), (1, 2), (2, 2),(4,5)], \n",
    "              'TermFreq__use_idf': (True, False), \n",
    "              'TermFreq__norm': ('l1', 'l2'), \n",
    "              'NB__alpha': [1, 1e-1, 1e-2, 1e-3] } \n",
    "\n",
    "CrossValFolds = 5\n",
    "grid_search= GridSearchCV(models, parameters, cv = CrossValFolds, n_jobs = -1) \n",
    "grid_search.fit(data4, train_labels)\n",
    "\n",
    "print(grid_search.best_score_) \n",
    "print(grid_search.best_params_)"
   ]
  },
  {
   "cell_type": "code",
   "execution_count": null,
   "id": "a0fbed7a",
   "metadata": {},
   "outputs": [],
   "source": [
    "confusion_matrix(test_labels, prediction, )"
   ]
  },
  {
   "cell_type": "markdown",
   "id": "5a642c30",
   "metadata": {},
   "source": [
    "## K-means"
   ]
  },
  {
   "cell_type": "code",
   "execution_count": 13,
   "id": "198a7fb3",
   "metadata": {},
   "outputs": [],
   "source": [
    "kmeans = KMeans(n_clusters=10, init='k-means++', random_state=0).fit(data_)\n"
   ]
  },
  {
   "cell_type": "code",
   "execution_count": 14,
   "id": "7097b314",
   "metadata": {},
   "outputs": [],
   "source": [
    "kmeans_pred = []\n",
    "for label in kmeans.predict(test_data):\n",
    "    if label == 0:\n",
    "        kmeans_pred.append(1)\n",
    "    else:\n",
    "        kmeans_pred.append(0)"
   ]
  },
  {
   "cell_type": "code",
   "execution_count": 15,
   "id": "6d9185b3",
   "metadata": {},
   "outputs": [
    {
     "data": {
      "text/plain": [
       "0.32170116979674773"
      ]
     },
     "execution_count": 15,
     "metadata": {},
     "output_type": "execute_result"
    }
   ],
   "source": [
    "fowlkes_mallows_score(kmeans_pred, test_labels) "
   ]
  },
  {
   "cell_type": "code",
   "execution_count": null,
   "id": "462756f5",
   "metadata": {},
   "outputs": [],
   "source": [
    "Y = []\n",
    "for k in range(1,25):\n",
    "    kmean_ = KMeans(n_clusters=k).fit(data_)\n",
    "    Y.append(kmean_.inertia_)"
   ]
  },
  {
   "cell_type": "code",
   "execution_count": null,
   "id": "6b773cde",
   "metadata": {},
   "outputs": [],
   "source": [
    "X = range(1,25)\n",
    "\n",
    "plt.figure(figsize=(12,6))\n",
    "plt.plot(X, Y)\n",
    "plt.plot(10, 12596, 'gD')\n",
    "\n",
    "plt.text(11.8, 12553, 'Elbow point', bbox=dict(color='green', alpha=0.8))\n",
    "plt.text(11.5, 12700, 'k = 2', fontsize = 12)\n",
    "\n",
    "plt.ylabel('Squared distances sum')\n",
    "plt.xlabel('No of clusters')\n",
    "plt.title('Elbow Method')\n",
    "\n",
    "plt.show()"
   ]
  },
  {
   "attachments": {
    "elbow.png": {
     "image/png": "[encoded data removed]"
    }
   },
   "cell_type": "markdown",
   "id": "c61b6069",
   "metadata": {},
   "source": [
    "![elbow.png](attachment:elbow.png)"
   ]
  },
  {
   "cell_type": "markdown",
   "id": "d46b16c9",
   "metadata": {},
   "source": [
    "## DBSCAN"
   ]
  },
  {
   "cell_type": "code",
   "execution_count": null,
   "id": "4572426f",
   "metadata": {},
   "outputs": [],
   "source": [
    "# Dimensionality reduction\n",
    "SVD = TruncatedSVD(100)\n",
    "Pca = SVD.fit_transform(data_)\n",
    "\n",
    "# Makeing the data positive\n",
    "scaler = MinMaxScaler().fit(Pca)\n",
    "data_ = scaler.transform(Pca)"
   ]
  },
  {
   "cell_type": "code",
   "execution_count": null,
   "id": "c1cc1f7e",
   "metadata": {},
   "outputs": [],
   "source": [
    "clustering = DBSCAN(eps=0.8, min_samples=4).fit(test_data)"
   ]
  },
  {
   "cell_type": "code",
   "execution_count": null,
   "id": "a9eb9540",
   "metadata": {},
   "outputs": [],
   "source": [
    "fowlkes_mallows_score(clustering.labels_, test_labels)"
   ]
  },
  {
   "cell_type": "code",
   "execution_count": null,
   "id": "5e12c45e",
   "metadata": {},
   "outputs": [],
   "source": [
    "# Computing a tabel for parameter comparison\n",
    "\n",
    "Acc = []\n",
    "Param = []\n",
    "X_ = []\n",
    "print('Clusters \\t Acc \\t eps \\t min_samples')\n",
    "for eps_ in [ 0.6, 0.8, 0.9]:\n",
    "    for min_samples_ in range(1, 11):\n",
    "        clustering = DBSCAN(eps=eps_, min_samples=min_samples_).fit(data_)\n",
    "        n_clusters = len(set(clustering.labels_)) - (1 if -1 in clustering.labels_ else 0)\n",
    "        print( n_clusters,' \\t       ', round(fowlkes_mallows_score(clustering.labels_, test_labels), 3),'\\t ', eps_, '  \\t ', min_samples_)\n",
    "        \n",
    "        X_.append(fowlkes_mallows_score(clustering.labels_, test_labels))\n",
    "        if n_clusters == 10 or n_clusters == 9:\n",
    "            Acc.append(fowlkes_mallows_score(clustering.labels_, test_labels))\n",
    "            Param.append([eps_, min_samples_])"
   ]
  },
  {
   "cell_type": "code",
   "execution_count": null,
   "id": "de970285",
   "metadata": {},
   "outputs": [],
   "source": [
    "print('Best score: ', max(Acc),'\\nBest Parameters: eps_ = ', Param[np.argmax(Acc, axis = 0)][0], ', min_sample = ', Param[np.argmax(Acc, axis = 0)][1])"
   ]
  },
  {
   "cell_type": "code",
   "execution_count": null,
   "id": "55142abe",
   "metadata": {
    "scrolled": true
   },
   "outputs": [],
   "source": [
    "Y_ = range(0,30)\n",
    "\n",
    "plt.figure(figsize=(12,6))\n",
    "plt.plot(Y_, X_)\n",
    "plt.plot(22, 0.285, 'gD')\n",
    "\n",
    "plt.text(20.2, 0.265, 'Maximum accuracy', bbox=dict(color='green', alpha=0.8))\n",
    "plt.text(19.4, 0.245, 'eps_ =  0.9 , min_sample =  1', fontsize = 10)\n",
    "\n",
    "plt.xlabel('Accuracy')\n",
    "plt.ylabel('Parameters')\n",
    "plt.title('Best Parameters DBSCAN')\n",
    "\n",
    "plt.show()"
   ]
  },
  {
   "attachments": {
    "acc_plot_db.png": {
     "image/png": "[encoded data removed]"
    }
   },
   "cell_type": "markdown",
   "id": "3bfed33f",
   "metadata": {},
   "source": [
    "![acc_plot_db.png](attachment:acc_plot_db.png)"
   ]
  },
  {
   "cell_type": "code",
   "execution_count": null,
   "id": "b71c2913",
   "metadata": {},
   "outputs": [],
   "source": []
  }
 ],
 "metadata": {
  "kernelspec": {
   "display_name": "Python 3",
   "language": "python",
   "name": "python3"
  },
  "language_info": {
   "codemirror_mode": {
    "name": "ipython",
    "version": 3
   },
   "file_extension": ".py",
   "mimetype": "text/x-python",
   "name": "python",
   "nbconvert_exporter": "python",
   "pygments_lexer": "ipython3",
   "version": "3.8.8"
  }
 },
 "nbformat": 4,
 "nbformat_minor": 5
}
