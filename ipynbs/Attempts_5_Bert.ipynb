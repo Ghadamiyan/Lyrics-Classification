{
 "cells": [
  {
   "cell_type": "markdown",
   "metadata": {},
   "source": [
    "I just tried using bert, bet I couldn't get better results"
   ]
  },
  {
   "cell_type": "code",
   "execution_count": 1,
   "metadata": {
    "_cell_guid": "79c7e3d0-c299-4dcb-8224-4455121ee9b0",
    "_uuid": "d629ff2d2480ee46fbb7e2d37f6b5fab8052498a",
    "execution": {
     "iopub.execute_input": "2021-09-26T16:10:42.515319Z",
     "iopub.status.busy": "2021-09-26T16:10:42.515016Z",
     "iopub.status.idle": "2021-09-26T16:10:42.523383Z",
     "shell.execute_reply": "2021-09-26T16:10:42.522125Z",
     "shell.execute_reply.started": "2021-09-26T16:10:42.515292Z"
    }
   },
   "outputs": [],
   "source": [
    "import numpy as np\n",
    "import pandas as pd\n",
    "import matplotlib.pyplot as plt\n",
    "\n",
    "import tensorflow as tf\n",
    "import transformers\n",
    "from transformers import BertTokenizer\n",
    "from transformers import DistilBertTokenizer, RobertaTokenizer\n",
    "from tensorflow.keras.optimizers import Adam, SGD\n",
    "\n",
    "from transformers import TFBertModel\n",
    "from transformers import BertTokenizer\n",
    "\n",
    "from transformers import TFXLNetModel, XLNetTokenizer"
   ]
  },
  {
   "cell_type": "code",
   "execution_count": 2,
   "metadata": {
    "execution": {
     "iopub.execute_input": "2021-09-26T16:11:54.131272Z",
     "iopub.status.busy": "2021-09-26T16:11:54.130872Z",
     "iopub.status.idle": "2021-09-26T16:11:54.692190Z",
     "shell.execute_reply": "2021-09-26T16:11:54.690907Z",
     "shell.execute_reply.started": "2021-09-26T16:11:54.131220Z"
    }
   },
   "outputs": [],
   "source": [
    "tokenizer = BertTokenizer.from_pretrained('bert-base-uncased', do_lower_case=True)"
   ]
  },
  {
   "cell_type": "code",
   "execution_count": 3,
   "metadata": {
    "execution": {
     "iopub.execute_input": "2021-09-26T16:10:42.526535Z",
     "iopub.status.busy": "2021-09-26T16:10:42.526118Z",
     "iopub.status.idle": "2021-09-26T16:10:46.337325Z",
     "shell.execute_reply": "2021-09-26T16:10:46.336432Z",
     "shell.execute_reply.started": "2021-09-26T16:10:42.526494Z"
    }
   },
   "outputs": [],
   "source": [
    "train_ = pd.read_csv(\"Lyrics-Genre-Train.csv\")\n",
    "test_ =  pd.read_csv(\"Lyrics-Genre-Test-GroundTruth.csv\")"
   ]
  },
  {
   "cell_type": "code",
   "execution_count": 4,
   "metadata": {
    "execution": {
     "iopub.execute_input": "2021-09-26T16:11:31.074651Z",
     "iopub.status.busy": "2021-09-26T16:11:31.074335Z",
     "iopub.status.idle": "2021-09-26T16:11:52.703809Z",
     "shell.execute_reply": "2021-09-26T16:11:52.702856Z",
     "shell.execute_reply.started": "2021-09-26T16:11:31.074622Z"
    }
   },
   "outputs": [],
   "source": [
    "def conv_labels(data):\n",
    "\n",
    "    \n",
    "    numeric_labels=[]\n",
    "\n",
    "    for i in range(0, len(data.index)):\n",
    "\n",
    "        if data.Genre[i] == 'Metal':\n",
    "            numeric_labels.append(0)\n",
    "\n",
    "        if data.Genre[i] == 'Hip-Hop':\n",
    "            numeric_labels.append(1)\n",
    "\n",
    "        if data.Genre[i] == 'Country':\n",
    "            numeric_labels.append(2)\n",
    "\n",
    "        if data.Genre[i] == 'Jazz':\n",
    "            numeric_labels.append(3)\n",
    "\n",
    "        if data.Genre[i] == 'Electronic':\n",
    "            numeric_labels.append(4)\n",
    "\n",
    "        if data.Genre[i] == 'Pop':\n",
    "            numeric_labels.append(5)\n",
    "\n",
    "        if data.Genre[i] == 'Folk':\n",
    "            numeric_labels.append(6)\n",
    "\n",
    "        if data.Genre[i] == 'Rock':\n",
    "            numeric_labels.append(7)\n",
    "\n",
    "        if data.Genre[i] == 'R&B':\n",
    "            numeric_labels.append(8)\n",
    "\n",
    "        if data.Genre[i] == 'Indie':\n",
    "            numeric_labels.append(9)\n",
    "            \n",
    "    return numeric_labels"
   ]
  },
  {
   "cell_type": "code",
   "execution_count": 5,
   "metadata": {
    "execution": {
     "iopub.execute_input": "2021-09-26T16:11:52.705933Z",
     "iopub.status.busy": "2021-09-26T16:11:52.705584Z",
     "iopub.status.idle": "2021-09-26T16:11:54.118194Z",
     "shell.execute_reply": "2021-09-26T16:11:54.117419Z",
     "shell.execute_reply.started": "2021-09-26T16:11:52.705897Z"
    }
   },
   "outputs": [],
   "source": [
    "numeric_labels = conv_labels(train_)\n",
    "numeric_labels1 = conv_labels(test_)\n",
    "\n",
    "train = pd.DataFrame({'text':train_['Lyrics'], 'class':numeric_labels})\n",
    "test = pd.DataFrame({'text':test_['Lyrics'], 'class':numeric_labels1})   "
   ]
  },
  {
   "cell_type": "code",
   "execution_count": 6,
   "metadata": {
    "execution": {
     "iopub.execute_input": "2021-09-26T16:11:54.119891Z",
     "iopub.status.busy": "2021-09-26T16:11:54.119483Z",
     "iopub.status.idle": "2021-09-26T16:11:54.129116Z",
     "shell.execute_reply": "2021-09-26T16:11:54.128204Z",
     "shell.execute_reply.started": "2021-09-26T16:11:54.119854Z"
    }
   },
   "outputs": [
    {
     "data": {
      "text/html": [
       "<div>\n",
       "<style scoped>\n",
       "    .dataframe tbody tr th:only-of-type {\n",
       "        vertical-align: middle;\n",
       "    }\n",
       "\n",
       "    .dataframe tbody tr th {\n",
       "        vertical-align: top;\n",
       "    }\n",
       "\n",
       "    .dataframe thead th {\n",
       "        text-align: right;\n",
       "    }\n",
       "</style>\n",
       "<table border=\"1\" class=\"dataframe\">\n",
       "  <thead>\n",
       "    <tr style=\"text-align: right;\">\n",
       "      <th></th>\n",
       "      <th>text</th>\n",
       "      <th>class</th>\n",
       "    </tr>\n",
       "  </thead>\n",
       "  <tbody>\n",
       "    <tr>\n",
       "      <th>0</th>\n",
       "      <td>I am a night in to the darkness, only soul los...</td>\n",
       "      <td>0</td>\n",
       "    </tr>\n",
       "    <tr>\n",
       "      <th>1</th>\n",
       "      <td>Yeah\\nSometimes, i just wanna fly away.\\nThey ...</td>\n",
       "      <td>1</td>\n",
       "    </tr>\n",
       "    <tr>\n",
       "      <th>2</th>\n",
       "      <td>Do you work hard?\\nDo you work hard?\\nYou don'...</td>\n",
       "      <td>0</td>\n",
       "    </tr>\n",
       "    <tr>\n",
       "      <th>3</th>\n",
       "      <td>You know what? I'm destined to be the last man...</td>\n",
       "      <td>1</td>\n",
       "    </tr>\n",
       "    <tr>\n",
       "      <th>4</th>\n",
       "      <td>There ain't nothing that I would rather see\\nT...</td>\n",
       "      <td>2</td>\n",
       "    </tr>\n",
       "  </tbody>\n",
       "</table>\n",
       "</div>"
      ],
      "text/plain": [
       "                                                text  class\n",
       "0  I am a night in to the darkness, only soul los...      0\n",
       "1  Yeah\\nSometimes, i just wanna fly away.\\nThey ...      1\n",
       "2  Do you work hard?\\nDo you work hard?\\nYou don'...      0\n",
       "3  You know what? I'm destined to be the last man...      1\n",
       "4  There ain't nothing that I would rather see\\nT...      2"
      ]
     },
     "execution_count": 6,
     "metadata": {},
     "output_type": "execute_result"
    }
   ],
   "source": [
    "train.head()"
   ]
  },
  {
   "cell_type": "code",
   "execution_count": 9,
   "metadata": {
    "execution": {
     "iopub.execute_input": "2021-09-26T16:12:02.395487Z",
     "iopub.status.busy": "2021-09-26T16:12:02.395054Z",
     "iopub.status.idle": "2021-09-26T16:12:02.408669Z",
     "shell.execute_reply": "2021-09-26T16:12:02.407597Z",
     "shell.execute_reply.started": "2021-09-26T16:12:02.395449Z"
    }
   },
   "outputs": [],
   "source": [
    "def bert_encode(data) :\n",
    "    input_ids = []\n",
    "    attention_masks = []\n",
    "  \n",
    "\n",
    "    for i in range(len(data.text)):\n",
    "        encoded = tokenizer.encode_plus(\n",
    "        \n",
    "        data.text[i],\n",
    "        add_special_tokens=True,\n",
    "        max_length=60,\n",
    "        pad_to_max_length=True,\n",
    "        \n",
    "        return_attention_mask=True,\n",
    "        \n",
    "      )\n",
    "      \n",
    "        input_ids.append(encoded['input_ids'])\n",
    "        attention_masks.append(encoded['attention_mask'])\n",
    "    return np.array(input_ids),np.array(attention_masks)"
   ]
  },
  {
   "cell_type": "code",
   "execution_count": 10,
   "metadata": {
    "execution": {
     "iopub.execute_input": "2021-09-26T16:12:03.682467Z",
     "iopub.status.busy": "2021-09-26T16:12:03.682124Z",
     "iopub.status.idle": "2021-09-26T16:17:01.948361Z",
     "shell.execute_reply": "2021-09-26T16:17:01.947423Z",
     "shell.execute_reply.started": "2021-09-26T16:12:03.682433Z"
    }
   },
   "outputs": [
    {
     "name": "stderr",
     "output_type": "stream",
     "text": [
      "Truncation was not explicitly activated but `max_length` is provided a specific value, please use `truncation=True` to explicitly truncate examples to max length. Defaulting to 'longest_first' truncation strategy. If you encode pairs of sequences (GLUE-style) with the tokenizer you can select this strategy more precisely by providing a specific strategy to `truncation`.\n",
      "E:\\Anaconda\\lib\\site-packages\\transformers\\tokenization_utils_base.py:2226: FutureWarning: The `pad_to_max_length` argument is deprecated and will be removed in a future version, use `padding=True` or `padding='longest'` to pad to the longest sequence in the batch, or use `padding='max_length'` to pad to a max length. In this case, you can give a specific length with `max_length` (e.g. `max_length=45`) or leave max_length to None to pad to the maximal input size of the model (e.g. 512 for Bert).\n",
      "  warnings.warn(\n"
     ]
    }
   ],
   "source": [
    "train_input_ids,train_attention_masks = bert_encode(train[:50000])\n",
    "test_input_ids,test_attention_masks = bert_encode(test[:20000])"
   ]
  },
  {
   "cell_type": "code",
   "execution_count": 11,
   "metadata": {
    "execution": {
     "iopub.execute_input": "2021-09-26T16:17:17.616575Z",
     "iopub.status.busy": "2021-09-26T16:17:17.616241Z",
     "iopub.status.idle": "2021-09-26T16:17:17.625369Z",
     "shell.execute_reply": "2021-09-26T16:17:17.624134Z",
     "shell.execute_reply.started": "2021-09-26T16:17:17.616546Z"
    }
   },
   "outputs": [],
   "source": [
    "def create_model(bert_model):\n",
    "    \n",
    "    input_ids = tf.keras.Input(shape=(60,),dtype='int32')\n",
    "    attention_masks = tf.keras.Input(shape=(60,),dtype='int32')\n",
    "    \n",
    "    output = bert_model([input_ids,attention_masks])\n",
    "    output = output[1]\n",
    "    \n",
    "    output = tf.keras.layers.Dense(32,activation='relu')(output)\n",
    "    output = tf.keras.layers.Dropout(0.2)(output)\n",
    "\n",
    "    output = tf.keras.layers.Dense(1, activation='relu')(output)\n",
    "    model = tf.keras.models.Model(inputs = [input_ids,attention_masks],outputs = output)\n",
    "    model.compile(Adam(lr=6e-6), loss='binary_crossentropy', metrics=['accuracy'])\n",
    "    \n",
    "    return model"
   ]
  },
  {
   "cell_type": "code",
   "execution_count": 12,
   "metadata": {
    "execution": {
     "iopub.execute_input": "2021-09-26T16:17:18.404023Z",
     "iopub.status.busy": "2021-09-26T16:17:18.403644Z",
     "iopub.status.idle": "2021-09-26T16:17:38.842099Z",
     "shell.execute_reply": "2021-09-26T16:17:38.841250Z",
     "shell.execute_reply.started": "2021-09-26T16:17:18.403994Z"
    }
   },
   "outputs": [
    {
     "name": "stderr",
     "output_type": "stream",
     "text": [
      "Some layers from the model checkpoint at bert-base-uncased were not used when initializing TFBertModel: ['mlm___cls', 'nsp___cls']\n",
      "- This IS expected if you are initializing TFBertModel from the checkpoint of a model trained on another task or with another architecture (e.g. initializing a BertForSequenceClassification model from a BertForPreTraining model).\n",
      "- This IS NOT expected if you are initializing TFBertModel from the checkpoint of a model that you expect to be exactly identical (initializing a BertForSequenceClassification model from a BertForSequenceClassification model).\n",
      "All the layers of TFBertModel were initialized from the model checkpoint at bert-base-uncased.\n",
      "If your task is similar to the task the model of the checkpoint was trained on, you can already use TFBertModel for predictions without further training.\n"
     ]
    }
   ],
   "source": [
    "bert_model = TFBertModel.from_pretrained('bert-base-uncased')"
   ]
  },
  {
   "cell_type": "code",
   "execution_count": 13,
   "metadata": {
    "execution": {
     "iopub.execute_input": "2021-09-26T16:17:38.844051Z",
     "iopub.status.busy": "2021-09-26T16:17:38.843639Z",
     "iopub.status.idle": "2021-09-26T16:17:42.067473Z",
     "shell.execute_reply": "2021-09-26T16:17:42.066510Z",
     "shell.execute_reply.started": "2021-09-26T16:17:38.844014Z"
    }
   },
   "outputs": [
    {
     "name": "stderr",
     "output_type": "stream",
     "text": [
      "E:\\Anaconda\\lib\\site-packages\\keras\\optimizer_v2\\adam.py:105: UserWarning: The `lr` argument is deprecated, use `learning_rate` instead.\n",
      "  super(Adam, self).__init__(name, **kwargs)\n"
     ]
    }
   ],
   "source": [
    "model = create_model(bert_model)"
   ]
  },
  {
   "cell_type": "code",
   "execution_count": 14,
   "metadata": {
    "execution": {
     "iopub.execute_input": "2021-09-26T16:18:32.942004Z",
     "iopub.status.busy": "2021-09-26T16:18:32.941569Z",
     "iopub.status.idle": "2021-09-26T16:18:32.949381Z",
     "shell.execute_reply": "2021-09-26T16:18:32.948406Z",
     "shell.execute_reply.started": "2021-09-26T16:18:32.941960Z"
    }
   },
   "outputs": [],
   "source": [
    "u = train[:50000]\n",
    "targets = u['class'].values"
   ]
  },
  {
   "cell_type": "code",
   "execution_count": 15,
   "metadata": {},
   "outputs": [],
   "source": [
    "v = test[:20000]\n",
    "targets_y = v['class'].values"
   ]
  },
  {
   "cell_type": "code",
   "execution_count": null,
   "metadata": {
    "execution": {
     "iopub.execute_input": "2021-09-26T16:18:36.480070Z",
     "iopub.status.busy": "2021-09-26T16:18:36.479679Z",
     "iopub.status.idle": "2021-09-26T16:45:02.176009Z",
     "shell.execute_reply": "2021-09-26T16:45:02.165876Z",
     "shell.execute_reply.started": "2021-09-26T16:18:36.480038Z"
    }
   },
   "outputs": [],
   "source": [
    "history = model.fit([train_input_ids,train_attention_masks], targets, validation_data=([test_input_ids,test_attention_masks],targets_y), epochs=4, batch_size = 64)"
   ]
  },
  {
   "cell_type": "code",
   "execution_count": null,
   "metadata": {
    "execution": {
     "iopub.execute_input": "2021-09-26T16:45:02.178783Z",
     "iopub.status.busy": "2021-09-26T16:45:02.178207Z",
     "iopub.status.idle": "2021-09-26T16:45:02.495391Z",
     "shell.execute_reply": "2021-09-26T16:45:02.494465Z",
     "shell.execute_reply.started": "2021-09-26T16:45:02.178743Z"
    }
   },
   "outputs": [],
   "source": [
    "plt.plot(history.history['accuracy'])\n",
    "plt.plot(history.history['val_accuracy'])\n",
    "plt.title('Accuracy Curves')\n",
    "plt.ylabel('Accuracy')\n",
    "plt.xlabel('Epoch')\n",
    "plt.legend(['Train', 'Test'], loc='upper left')\n",
    "plt.show()"
   ]
  },
  {
   "attachments": {
    "bert_perf.png": {
     "image/png": "[encoded data removed]"
    }
   },
   "cell_type": "markdown",
   "metadata": {},
   "source": [
    "![bert_perf.png](attachment:bert_perf.png)"
   ]
  },
  {
   "cell_type": "code",
   "execution_count": null,
   "metadata": {
    "execution": {
     "iopub.execute_input": "2021-09-26T16:45:02.497410Z",
     "iopub.status.busy": "2021-09-26T16:45:02.496798Z",
     "iopub.status.idle": "2021-09-26T16:45:02.736835Z",
     "shell.execute_reply": "2021-09-26T16:45:02.735846Z",
     "shell.execute_reply.started": "2021-09-26T16:45:02.497368Z"
    }
   },
   "outputs": [],
   "source": [
    "plt.plot(history.history['loss'])\n",
    "plt.plot(history.history['val_loss'])\n",
    "plt.title('Loss Curves')\n",
    "plt.ylabel('Loss')\n",
    "plt.xlabel('Epoch')\n",
    "plt.legend(['Train', 'Test'], loc='upper left')\n",
    "plt.show()"
   ]
  },
  {
   "cell_type": "code",
   "execution_count": null,
   "metadata": {},
   "outputs": [],
   "source": []
  }
 ],
 "metadata": {
  "kernelspec": {
   "display_name": "Python 3",
   "language": "python",
   "name": "python3"
  },
  "language_info": {
   "codemirror_mode": {
    "name": "ipython",
    "version": 3
   },
   "file_extension": ".py",
   "mimetype": "text/x-python",
   "name": "python",
   "nbconvert_exporter": "python",
   "pygments_lexer": "ipython3",
   "version": "3.8.8"
  }
 },
 "nbformat": 4,
 "nbformat_minor": 4
}
